{
  "nbformat": 4,
  "nbformat_minor": 0,
  "metadata": {
    "colab": {
      "name": "Copy of QAP-Instance.ipynb",
      "provenance": [],
      "authorship_tag": "ABX9TyPAOnQ4x/WV0bv3zDeZQ77W",
      "include_colab_link": true
    },
    "kernelspec": {
      "name": "python3",
      "display_name": "Python 3"
    },
    "language_info": {
      "name": "python"
    }
  },
  "cells": [
    {
      "cell_type": "markdown",
      "metadata": {
        "id": "view-in-github",
        "colab_type": "text"
      },
      "source": [
        "<a href=\"https://colab.research.google.com/github/JuanDa14Sa/QAP-instance-Genetic-algorithm/blob/main/QAP_Instance.ipynb\" target=\"_parent\"><img src=\"https://colab.research.google.com/assets/colab-badge.svg\" alt=\"Open In Colab\"/></a>"
      ]
    },
    {
      "cell_type": "markdown",
      "source": [
        "# QAP-Genetics"
      ],
      "metadata": {
        "id": "-WWxctLFRYzN"
      }
    },
    {
      "cell_type": "markdown",
      "source": [
        "Vamos a resolver una instancia del problema QAP usando algoritmos genéticos. Primero cargamos los datos dados:"
      ],
      "metadata": {
        "id": "hkyd4SomRfCw"
      }
    },
    {
      "cell_type": "code",
      "source": [
        "import numpy as np\n",
        "\n",
        "dist_mat=np.array([[0, 1, 2, 3, 4, 1, 2, 3, 4, 5, 2, 3, 4, 5, 6, 3, 4, 5, 6, 7, 4, 5,\n",
        "        6, 7, 8],\n",
        "       [1, 0, 1, 2, 3, 2, 1, 2, 3, 4, 3, 2, 3, 4, 5, 4, 3, 4, 5, 6, 5, 4,\n",
        "        5, 6, 7],\n",
        "       [2, 1, 0, 1, 2, 3, 2, 1, 2, 3, 4, 3, 2, 3, 4, 5, 4, 3, 4, 5, 6, 5,\n",
        "        4, 5, 6],\n",
        "       [3, 2, 1, 0, 1, 4, 3, 2, 1, 2, 5, 4, 3, 2, 3, 6, 5, 4, 3, 4, 7, 6,\n",
        "        5, 4, 5],\n",
        "       [4, 3, 2, 1, 0, 5, 4, 3, 2, 1, 6, 5, 4, 3, 2, 7, 6, 5, 4, 3, 8, 7,\n",
        "        6, 5, 4],\n",
        "       [1, 2, 3, 4, 5, 0, 1, 2, 3, 4, 1, 2, 3, 4, 5, 2, 3, 4, 5, 6, 3, 4,\n",
        "        5, 6, 7],\n",
        "       [2, 1, 2, 3, 4, 1, 0, 1, 2, 3, 2, 1, 2, 3, 4, 3, 2, 3, 4, 5, 4, 3,\n",
        "        4, 5, 6],\n",
        "       [3, 2, 1, 2, 3, 2, 1, 0, 1, 2, 3, 2, 1, 2, 3, 4, 3, 2, 3, 4, 5, 4,\n",
        "        3, 4, 5],\n",
        "       [4, 3, 2, 1, 2, 3, 2, 1, 0, 1, 4, 3, 2, 1, 2, 5, 4, 3, 2, 3, 6, 5,\n",
        "        4, 3, 4],\n",
        "       [5, 4, 3, 2, 1, 4, 3, 2, 1, 0, 5, 4, 3, 2, 1, 6, 5, 4, 3, 2, 7, 6,\n",
        "        5, 4, 3],\n",
        "       [2, 3, 4, 5, 6, 1, 2, 3, 4, 5, 0, 1, 2, 3, 4, 1, 2, 3, 4, 5, 2, 3,\n",
        "        4, 5, 6],\n",
        "       [3, 2, 3, 4, 5, 2, 1, 2, 3, 4, 1, 0, 1, 2, 3, 2, 1, 2, 3, 4, 3, 2,\n",
        "        3, 4, 5],\n",
        "       [4, 3, 2, 3, 4, 3, 2, 1, 2, 3, 2, 1, 0, 1, 2, 3, 2, 1, 2, 3, 4, 3,\n",
        "        2, 3, 4],\n",
        "       [5, 4, 3, 2, 3, 4, 3, 2, 1, 2, 3, 2, 1, 0, 1, 4, 3, 2, 1, 2, 5, 4,\n",
        "        3, 2, 3],\n",
        "       [6, 5, 4, 3, 2, 5, 4, 3, 2, 1, 4, 3, 2, 1, 0, 5, 4, 3, 2, 1, 6, 5,\n",
        "        4, 3, 2],\n",
        "       [3, 4, 5, 6, 7, 2, 3, 4, 5, 6, 1, 2, 3, 4, 5, 0, 1, 2, 3, 4, 1, 2,\n",
        "        3, 4, 5],\n",
        "       [4, 3, 4, 5, 6, 3, 2, 3, 4, 5, 2, 1, 2, 3, 4, 1, 0, 1, 2, 3, 2, 1,\n",
        "        2, 3, 4],\n",
        "       [5, 4, 3, 4, 5, 4, 3, 2, 3, 4, 3, 2, 1, 2, 3, 2, 1, 0, 1, 2, 3, 2,\n",
        "        1, 2, 3],\n",
        "       [6, 5, 4, 3, 4, 5, 4, 3, 2, 3, 4, 3, 2, 1, 2, 3, 2, 1, 0, 1, 4, 3,\n",
        "        2, 1, 2],\n",
        "       [7, 6, 5, 4, 3, 6, 5, 4, 3, 2, 5, 4, 3, 2, 1, 4, 3, 2, 1, 0, 5, 4,\n",
        "        3, 2, 1],\n",
        "       [4, 5, 6, 7, 8, 3, 4, 5, 6, 7, 2, 3, 4, 5, 6, 1, 2, 3, 4, 5, 0, 1,\n",
        "        2, 3, 4],\n",
        "       [5, 4, 5, 6, 7, 4, 3, 4, 5, 6, 3, 2, 3, 4, 5, 2, 1, 2, 3, 4, 1, 0,\n",
        "        1, 2, 3],\n",
        "       [6, 5, 4, 5, 6, 5, 4, 3, 4, 5, 4, 3, 2, 3, 4, 3, 2, 1, 2, 3, 2, 1,\n",
        "        0, 1, 2],\n",
        "       [7, 6, 5, 4, 5, 6, 5, 4, 3, 4, 5, 4, 3, 2, 3, 4, 3, 2, 1, 2, 3, 2,\n",
        "        1, 0, 1],\n",
        "       [8, 7, 6, 5, 4, 7, 6, 5, 4, 3, 6, 5, 4, 3, 2, 5, 4, 3, 2, 1, 4, 3,\n",
        "        2, 1, 0]])\n",
        "\n",
        "flow_mat=np.array([[ 0,  3,  2,  0,  0, 10,  5,  0,  5,  2,  0,  0,  2,  0,  5,  3,\n",
        "         0,  1, 10,  0,  2,  1,  1,  1,  0],\n",
        "       [ 3,  0,  4,  0, 10,  0,  0,  2,  2,  1,  5,  0,  0,  0,  0,  0,\n",
        "         1,  6,  1,  0,  2,  2,  5,  1, 10],\n",
        "       [ 2,  4,  0,  3,  4,  5,  5,  5,  1,  4,  0,  4,  0,  4,  0,  3,\n",
        "         2,  5,  5,  2,  0,  0,  3,  1,  0],\n",
        "       [ 0,  0,  3,  0,  0,  0,  2,  2,  0,  6,  2,  5,  2,  5,  1,  1,\n",
        "         1,  2,  2,  4,  2,  0,  2,  2,  5],\n",
        "       [ 0, 10,  4,  0,  0,  2,  0,  0,  0,  0,  0,  0,  0,  0,  2,  0,\n",
        "         0,  2,  0,  5,  0,  2,  1,  0,  2],\n",
        "       [10,  0,  5,  0,  2,  0, 10, 10,  5, 10,  6,  0,  0, 10,  2, 10,\n",
        "         1,  5,  5,  2,  5,  0,  2,  0,  1],\n",
        "       [ 5,  0,  5,  2,  0, 10,  0,  1,  3,  5,  0,  0,  2,  4,  5, 10,\n",
        "         6,  0,  5,  5,  5,  0,  5,  5,  0],\n",
        "       [ 0,  2,  5,  2,  0, 10,  1,  0, 10,  2,  5,  2,  0,  3,  0,  0,\n",
        "         0,  4,  0,  5,  0,  5,  2,  2,  5],\n",
        "       [ 5,  2,  1,  0,  0,  5,  3, 10,  0,  5,  6,  0,  1,  5,  5,  5,\n",
        "         2,  3,  5,  0,  2, 10, 10,  1,  5],\n",
        "       [ 2,  1,  4,  6,  0, 10,  5,  2,  5,  0,  0,  1,  2,  1,  0,  0,\n",
        "         0,  0,  6,  6,  4,  5,  3,  2,  2],\n",
        "       [ 0,  5,  0,  2,  0,  6,  0,  5,  6,  0,  0,  2,  0,  4,  2,  1,\n",
        "         0,  6,  2,  1,  5,  0,  0,  1,  5],\n",
        "       [ 0,  0,  4,  5,  0,  0,  0,  2,  0,  1,  2,  0,  2,  1,  0,  3,\n",
        "        10,  0,  0,  4,  0,  0,  4,  2,  5],\n",
        "       [ 2,  0,  0,  2,  0,  0,  2,  0,  1,  2,  0,  2,  0,  4,  5,  0,\n",
        "         1,  0,  5,  0,  0,  0,  5,  1,  1],\n",
        "       [ 0,  0,  4,  5,  0, 10,  4,  3,  5,  1,  4,  1,  4,  0,  0,  0,\n",
        "         2,  2,  0,  2,  5,  0,  5,  2,  5],\n",
        "       [ 5,  0,  0,  1,  2,  2,  5,  0,  5,  0,  2,  0,  5,  0,  0,  2,\n",
        "         0,  0,  0,  6,  3,  5,  0,  0,  5],\n",
        "       [ 3,  0,  3,  1,  0, 10, 10,  0,  5,  0,  1,  3,  0,  0,  2,  0,\n",
        "         0,  5,  5,  1,  5,  2,  1,  2, 10],\n",
        "       [ 0,  1,  2,  1,  0,  1,  6,  0,  2,  0,  0, 10,  1,  2,  0,  0,\n",
        "         0,  5,  2,  1,  1,  5,  6,  5,  5],\n",
        "       [ 1,  6,  5,  2,  2,  5,  0,  4,  3,  0,  6,  0,  0,  2,  0,  5,\n",
        "         5,  0,  4,  0,  0,  0,  0,  5,  0],\n",
        "       [10,  1,  5,  2,  0,  5,  5,  0,  5,  6,  2,  0,  5,  0,  0,  5,\n",
        "         2,  4,  0,  5,  4,  4,  5,  0,  2],\n",
        "       [ 0,  0,  2,  4,  5,  2,  5,  5,  0,  6,  1,  4,  0,  2,  6,  1,\n",
        "         1,  0,  5,  0,  4,  4,  1,  0,  2],\n",
        "       [ 2,  2,  0,  2,  0,  5,  5,  0,  2,  4,  5,  0,  0,  5,  3,  5,\n",
        "         1,  0,  4,  4,  0,  1,  0, 10,  1],\n",
        "       [ 1,  2,  0,  0,  2,  0,  0,  5, 10,  5,  0,  0,  0,  0,  5,  2,\n",
        "         5,  0,  4,  4,  1,  0,  0,  0,  0],\n",
        "       [ 1,  5,  3,  2,  1,  2,  5,  2, 10,  3,  0,  4,  5,  5,  0,  1,\n",
        "         6,  0,  5,  1,  0,  0,  0,  0,  0],\n",
        "       [ 1,  1,  1,  2,  0,  0,  5,  2,  1,  2,  1,  2,  1,  2,  0,  2,\n",
        "         5,  5,  0,  0, 10,  0,  0,  0,  2],\n",
        "       [ 0, 10,  0,  5,  2,  1,  0,  5,  5,  2,  5,  5,  1,  5,  5, 10,\n",
        "         5,  0,  2,  2,  1,  0,  0,  2,  0]])\n"
      ],
      "metadata": {
        "id": "_rqqlZcBff43"
      },
      "execution_count": 1,
      "outputs": []
    },
    {
      "cell_type": "markdown",
      "source": [
        "Ahora definimos los individuos que vamos a usar, estos son permutaciones del conjunto $\\{0,\\dots 24\\}$, donde un número $k$ en la posición $i$ representa el departamento $k$ en la localización $i$:"
      ],
      "metadata": {
        "id": "di6WO2FMRsiU"
      }
    },
    {
      "cell_type": "code",
      "source": [
        "def gen_indiv(indiv_size):\n",
        "    return np.random.choice(range(indiv_size),replace=False,size=indiv_size)\n",
        "\n",
        "def gen_population(num_pop,indiv_size): #Vamos a guardar a los individuos en una lista\n",
        "    return np.array([gen_indiv(indiv_size) for _ in range(num_pop)])"
      ],
      "metadata": {
        "id": "jYL2SUBNR7C9"
      },
      "execution_count": 2,
      "outputs": []
    },
    {
      "cell_type": "markdown",
      "source": [
        "Definimos la función de fitness, esta va a ser el producto del flujo entre departamentos con la distancia entre localizaciones"
      ],
      "metadata": {
        "id": "GvaJNS2ER9SP"
      }
    },
    {
      "cell_type": "code",
      "source": [
        "def fitness(indiv,dist_mat,flow_mat):\n",
        "    fitness_sum=0\n",
        "    indiv_size=len(indiv)\n",
        "    for i in range(indiv_size):\n",
        "        for j in range(indiv_size):\n",
        "            fitness_sum=fitness_sum+dist_mat[i][j]*flow_mat[indiv[i]][indiv[j]]\n",
        "    return fitness_sum\n",
        "\n",
        "def fitness_pop(population,dist_mat,flow_mat):\n",
        "    return np.array([fitness(indiv,dist_mat,flow_mat) for indiv in population])"
      ],
      "metadata": {
        "id": "R2TXbmA0R8iO"
      },
      "execution_count": 3,
      "outputs": []
    },
    {
      "cell_type": "markdown",
      "source": [
        "A continuación definimos los operadores geneticos, para la mutación tenemos una probabilidad que determina si el individuo va a ser mutado o vamos a convertirlo en el mejor individuo de la generación actual, esto lo hacemos para garantizar que la función de fitness decrezca(esta practica se conoce como elitismo).\n",
        "En caso de que vayamos a mutar el individuo, entonces intercambiamos dos elementos."
      ],
      "metadata": {
        "id": "qVDTAeDbSMSL"
      }
    },
    {
      "cell_type": "code",
      "source": [
        "def mutationv2(indiv,prob_mutate,population,fitness_pop):  #Elitismo\n",
        "    if np.random.rand()<prob_mutate:\n",
        "        indiv_=indiv.copy()\n",
        "        tmp=np.random.choice(len(indiv),replace=False,size=2)\n",
        "        i=tmp[0]\n",
        "        j=tmp[1]\n",
        "        indiv_[i],indiv_[j]=indiv_[j],indiv_[i]\n",
        "        return indiv_\n",
        "    else:\n",
        "        indiv,_=currentBest(fitness_pop,population)\n",
        "        return indiv\n",
        "    \n",
        "def mutatev2(population,prob_mutate,fitness_pop):\n",
        "    tmp=[]\n",
        "    for indiv in population:\n",
        "        tmp.append(mutationv2(indiv,prob_mutate,population,fitness_pop))\n",
        "    return tmp"
      ],
      "metadata": {
        "id": "hlMOh4eASXLz"
      },
      "execution_count": 4,
      "outputs": []
    },
    {
      "cell_type": "markdown",
      "source": [
        "Para el operador de crossover, escogemos un punto de corte, antes de este realizamos intercambios entre los dos padres, y a partir del punto, los hijos van a ser iguales a los padres. Para más información acerca de este corte, vea https://medium.com/sandstreamdev/the-genetic-algorithm-in-solving-the-quadratic-assignment-problem-9bde6ead47ab."
      ],
      "metadata": {
        "id": "Mqh4AZKsTUFd"
      }
    },
    {
      "cell_type": "code",
      "source": [
        "def crossover_indiv(parent1,parent2,prob_cross):\n",
        "    if np.random.rand()<prob_cross:    \n",
        "        cross_point=np.random.randint(0,len(parent1))\n",
        "        child1, child2 = parent1.copy(),parent2.copy()\n",
        "        for i in range(cross_point):\n",
        "            value1,value2= child1[i],child2[i]   \n",
        "            child1[np.where(child1==value2)[0]],child2[np.where(child2==value1)[0]]=value1,value2\n",
        "            child1[i],child2[i]= value2,value1\n",
        "        return child1,child2\n",
        "    else:\n",
        "        return parent1,parent2\n",
        "\n",
        "def crossover(population,prob_cross):\n",
        "    childs=[]\n",
        "    num_pop=len(population)\n",
        "    for i in range(0,num_pop,2):\n",
        "        child1,child2=crossover_indiv(population[np.random.randint(0,num_pop)],population[np.random.randint(0,num_pop)],prob_cross)\n",
        "        childs.append(child1)\n",
        "        childs.append(child2)\n",
        "    return np.array(childs)\n",
        "\n",
        "\n"
      ],
      "metadata": {
        "id": "cmlvwnEinMFF"
      },
      "execution_count": 5,
      "outputs": []
    },
    {
      "cell_type": "markdown",
      "source": [
        "Definimos una función para obtener el mejor individuo de la generación, y creamos el método para seleccionar individuos para la siguiente generación, esto lo hacemos mediante el promedio de los valores de fitness de la generación, a partir de este obtenemos una probabilidad y de esta forma escogemos a los individuos de la nueva generación. Realizando esto nos aseguramos de dejar la posibilidad a tener individuos que no tuvieron el mejor desempeño en generaciones pasadas."
      ],
      "metadata": {
        "id": "zAdiUoIUUAAc"
      }
    },
    {
      "cell_type": "code",
      "source": [
        "def currentBest(fitness_pop,population): \n",
        "    index=np.argmin(fitness_pop)\n",
        "    return population[index],fitness_pop[index]\n",
        "\n",
        "def selection(fitness_pop,population): #Roulette selection method (Probabilidades basadas en el fitness)\n",
        "    sum=np.sum(fitness_pop)\n",
        "    prob_selection=fitness_pop/sum\n",
        "    selected_indices = np.random.choice(range(len(population)),size=len(population),p=prob_selection)\n",
        "    return np.take(population,selected_indices,axis=0)"
      ],
      "metadata": {
        "id": "uNPUhTPNUA_m"
      },
      "execution_count": 6,
      "outputs": []
    },
    {
      "cell_type": "markdown",
      "source": [
        "Finalmente implementamos el algoritmo para obtener una solución de la instancia de QAP, utilizamos 100 individuos en cada generación y usamos 150 generaciones"
      ],
      "metadata": {
        "id": "UxVP6b04Uk2V"
      }
    },
    {
      "cell_type": "code",
      "source": [
        "def QAP_genetic(num_iterations,dist_mat,flow_mat,prob_cross=0.8,prob_mutate=0.2,num_pop=100,indiv_size=25):\n",
        "\n",
        "    fitnesss=[]\n",
        "\n",
        "\n",
        "    population=gen_population(num_pop,indiv_size)\n",
        "    fitness_pop_=fitness_pop(population,dist_mat,flow_mat)\n",
        "    current_best_indiv,current_best_score=currentBest(fitness_pop_,population)\n",
        "    final_best_indiv,final_best_score=current_best_indiv,current_best_score\n",
        "    for i in range(num_iterations):\n",
        "        population=selection(fitness_pop_,population)\n",
        "        population=crossover(population,prob_cross)\n",
        "\n",
        "        fitness_pop_=fitness_pop(population,dist_mat,flow_mat) #Elitismo(costo extra de computación)\n",
        "        population=mutatev2(population,prob_mutate,fitness_pop_)\n",
        "\n",
        "        fitness_pop_=fitness_pop(population,dist_mat,flow_mat)\n",
        "        current_best_indiv,current_best_score=currentBest(fitness_pop_,population)\n",
        "        fitnesss.append(current_best_score)\n",
        "        if current_best_score<final_best_score:\n",
        "            final_best_indiv,final_best_score=current_best_indiv,current_best_score\n",
        "\n",
        "    return final_best_indiv,final_best_score,fitnesss\n",
        "\n",
        "\n",
        "num_iterations=150\n",
        "\n",
        "final_best_indiv,final_best_score,fitnesss=QAP_genetic(num_iterations,dist_mat,flow_mat)"
      ],
      "metadata": {
        "id": "w4hTLCi7Pme4"
      },
      "execution_count": 9,
      "outputs": []
    },
    {
      "cell_type": "markdown",
      "source": [
        "Graficamos la función de fitness durante cada generación, podemos ver que se reduce de manera considerable. Finalmente podemos ver la solución obtenida"
      ],
      "metadata": {
        "id": "EOEKWXouU7hS"
      }
    },
    {
      "cell_type": "code",
      "source": [
        "import matplotlib.pyplot as plt\n",
        "\n",
        "plt.plot(range(num_iterations),fitnesss)\n",
        "plt.xlabel('# de generaciones')\n",
        "plt.ylabel('Función de fitness')\n",
        "print('Solución:{}\\nFunción de fitness de la solución: {}'.format(final_best_indiv,final_best_score))"
      ],
      "metadata": {
        "colab": {
          "base_uri": "https://localhost:8080/",
          "height": 331
        },
        "id": "Z9PAVCOB8oT9",
        "outputId": "4e61b568-c87e-40cf-88b0-e3949b043c73"
      },
      "execution_count": 10,
      "outputs": [
        {
          "output_type": "stream",
          "name": "stdout",
          "text": [
            "Solución:[12 14 15  0 21 20  6 18  9 19 16 22  8  5  7 11 13 24  2  1 23  3 10 17\n",
            "  4]\n",
            "Función de fitness de la solución: 3876\n"
          ]
        },
        {
          "output_type": "display_data",
          "data": {
            "image/png": "[encoded data removed]",
            "text/plain": [
              "<Figure size 432x288 with 1 Axes>"
            ]
          },
          "metadata": {
            "needs_background": "light"
          }
        }
      ]
    }
  ]
}